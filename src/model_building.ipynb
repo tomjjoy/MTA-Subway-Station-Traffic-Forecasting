{
 "cells": [
  {
   "cell_type": "code",
   "execution_count": null,
   "id": "fc7a8a7d-910d-43db-b58e-48c6316027fc",
   "metadata": {},
   "outputs": [],
   "source": [
    "import pandas as pd\n",
    "import numpy as np\n",
    "\n",
    "import datetime as dt\n",
    "from datetime import datetime\n",
    "\n",
    "import matplotlib.pyplot as plt\n",
    "import seaborn as sns\n",
    "\n",
    "from sklearn.impute import SimpleImputer\n",
    "from sklearn.ensemble import RandomForestRegressor\n",
    "from sklearn import metrics\n",
    "from sklearn.model_selection import TimeSeriesSplit\n",
    "from sklearn.tree import export_graphviz\n",
    "\n",
    "import pydot"
   ]
  },
  {
   "cell_type": "code",
   "execution_count": null,
   "id": "4f8b5fc9-b223-4f49-ade9-b7a7f2a16af3",
   "metadata": {},
   "outputs": [],
   "source": [
    "import warnings\n",
    "warnings.filterwarnings('ignore')\n",
    "pd.options.mode.chained_assignment = None  \n",
    "pd.set_option('float_format', '{:f}'.format)\n",
    "pd.set_option('display.max_columns', None)"
   ]
  },
  {
   "cell_type": "code",
   "execution_count": null,
   "id": "6855acfa-2d17-41e7-99b1-6a05d0587d3b",
   "metadata": {},
   "outputs": [],
   "source": [
    "def float_to_int(ser):\n",
    "    try:\n",
    "        int_ser = ser.astype(int)\n",
    "        if (ser == int_ser).all():\n",
    "            return int_ser\n",
    "        else:\n",
    "            return ser\n",
    "    except ValueError:\n",
    "        return ser\n",
    "\n",
    "\n",
    "def multi_assign(df, transform_fn, condition):\n",
    "    df_to_use = df.copy()\n",
    "\n",
    "    return (df_to_use\n",
    "        .assign(\n",
    "            **{col: transform_fn(df_to_use[col])\n",
    "               for col in condition(df_to_use)})\n",
    "           )\n",
    "\n",
    "\n",
    "def all_float_to_int(df):\n",
    "    df_to_use = df.copy()\n",
    "    transform_fn = float_to_int\n",
    "    condition = lambda x: list(x\n",
    "                    .select_dtypes(include=[\"float\"])\n",
    "                    .columns)\n",
    "\n",
    "    return multi_assign(df_to_use, transform_fn, condition)\n",
    "\n",
    "\n",
    "def downcast_all(df, target_type, inital_type=None):\n",
    "    #Gotta specify floats, unsigned, or integer\n",
    "    #If integer, gotta be 'integer', not 'int'\n",
    "    #Unsigned should look for Ints\n",
    "    if inital_type is None:\n",
    "        inital_type = target_type\n",
    "\n",
    "    df_to_use = df.copy()\n",
    "\n",
    "    transform_fn = lambda x: pd.to_numeric(x,\n",
    "                                downcast=target_type)\n",
    "\n",
    "    condition = lambda x: list(x\n",
    "                    .select_dtypes(include=[inital_type])\n",
    "                    .columns)\n",
    "\n",
    "    return multi_assign(df_to_use, transform_fn, condition)\n"
   ]
  },
  {
   "cell_type": "code",
   "execution_count": null,
   "id": "d168893d-a971-49a6-be5e-b1532bf2d5bb",
   "metadata": {},
   "outputs": [],
   "source": [
    "master_df = pd.read_csv(\"./data/Turnstile_Usage_Cleaned_2014-10-18_thru_2022-09-24.csv\",\n",
    "                        usecols=[\"Unnamed: 0\", \"DOW_Index\", \"Date\", \"Year\", \"Month\", \n",
    "                                 \"Day\", \"Hour\", \"Station\", \"Turnstile_ID\", \n",
    "                                 \"Entries_Corrected\", \"Exits_Corrected\", \"Traffic\"],\n",
    "                        index_col=[0]).rename(columns={\"DOW_Index\": \"DOW\",\n",
    "                                                       \"Entries_Corrected\": \"Entries\",\n",
    "                                                       \"Exits_Corrected\": \"Exits\"})\n",
    "master_df.index = pd.to_datetime(master_df.index)\n",
    "master_df[\"Date\"] = pd.to_datetime(master_df.Date, format=\"%Y-%m-%d\")\n",
    "master_df = master_df[[\"Date\", \"Year\", \"Month\", \"Day\", \"Hour\", \"DOW\", \"Station\", \"Turnstile_ID\", \"Entries\", \"Exits\", \"Traffic\"]]\n",
    "master_df = master_df.pipe(all_float_to_int).pipe(downcast_all, \"float\").pipe(downcast_all, \"integer\")\n",
    "\n",
    "# master_df"
   ]
  },
  {
   "cell_type": "code",
   "execution_count": null,
   "id": "88f46621-5925-4b1c-949f-3ce8292ec249",
   "metadata": {},
   "outputs": [],
   "source": [
    "station_lookup = pd.read_csv(\"./data/Station_Lookup_Table_Master.csv\")\n",
    "station_lookup"
   ]
  },
  {
   "cell_type": "code",
   "execution_count": null,
   "id": "87ec10af-f8c2-4240-8615-48216de76a29",
   "metadata": {},
   "outputs": [],
   "source": [
    "master_df_full = pd.merge(master_df.reset_index(), station_lookup, \n",
    "                          left_on=\"Station\", \n",
    "                          right_on=\"Data Set Station\").drop([\"Station\", \"Data Set Station\"], axis=1).rename(columns={\"Stop Name\":\"Station\",\n",
    "                                                                                                                     \"GTFS Latitude\":\"Latitude\",\n",
    "                                                                                                                     \"GTFS Longitude\":\"Longitude\",\n",
    "                                                                                                                     \"index\":\"DateTime\"}).set_index(\"DateTime\")\n",
    "# master_df_full.to_csv(\"./data/Corrected_Station_Data_by_Turnstile_Full_Data.csv\", index=True)\n",
    "master_df_full"
   ]
  },
  {
   "cell_type": "code",
   "execution_count": null,
   "id": "4683f916-c088-4738-81e7-4be7a1c05c86",
   "metadata": {},
   "outputs": [],
   "source": [
    "temp = pd.read_csv(\"./data/Corrected_Station_Data_by_Station_Full_Data.csv\", low_memory=False)\n",
    "temp.head()"
   ]
  },
  {
   "cell_type": "code",
   "execution_count": null,
   "id": "99bc9049-2f33-41e6-b21f-9ebf13e5ae82",
   "metadata": {},
   "outputs": [],
   "source": [
    "station_mapping = {}\n",
    "for idx, row in (temp[[\"Station ID\", \"Station\"]]).drop_duplicates().sort_values(\"Station ID\").iterrows():\n",
    "    station_mapping[row[\"Station ID\"]] = row[\"Station\"]\n",
    "# station_mapping"
   ]
  },
  {
   "cell_type": "code",
   "execution_count": null,
   "id": "b9408073-0cda-4eee-b46b-0a4edc45c7c9",
   "metadata": {},
   "outputs": [],
   "source": [
    "borough_mapping = {}\n",
    "for idx, borough in enumerate(temp.Borough.unique()):\n",
    "    borough_mapping[borough] = idx\n",
    "borough_mapping"
   ]
  },
  {
   "cell_type": "code",
   "execution_count": null,
   "id": "f5d83563-5145-4e1e-b6e0-b4886d2aa734",
   "metadata": {},
   "outputs": [],
   "source": [
    "temp3 = temp.copy()\n",
    "temp3.drop([\"Station\", \"GTFS Stop ID\", \"Division\", \"Line\", \"Daytime Routes\", \"Latitude\", \"Longitude\"], axis=1, inplace=True)\n",
    "temp3.replace({\"Borough\": borough_mapping}, inplace=True)\n",
    "temp3 = pd.get_dummies(temp3, columns=[\"Structure\"])\n",
    "temp3.Traffic = temp3.Traffic.astype(float)\n",
    "# temp3"
   ]
  },
  {
   "cell_type": "code",
   "execution_count": null,
   "id": "fb865672-ac39-4162-834e-c64ed29cf299",
   "metadata": {},
   "outputs": [],
   "source": [
    "covid_by_day = pd.read_csv(\"data/coronavirus-data-master/trends/cases-by-day.csv\")\n",
    "\n",
    "covid_by_day[\"Date\"] = pd.to_datetime(covid_by_day[\"date_of_interest\"])\n",
    "\n",
    "covid_by_day = covid_by_day.set_index(\"Date\").filter(like=\"PROBABLE_CASE_COUNT\").reset_index()\n",
    "covid_by_day.columns = [\"Date\", \"Total_Case_Count\", \"BX_Case_Count\", \"BK_Case_Count\", \"MN_Case_Count\", \"QN_Case_Count\", \"SI_Case_Count\"]\n",
    "covid_by_day.Date = covid_by_day.Date.dt.date\n",
    "\n",
    "new_rows = []\n",
    "for idx, row in covid_by_day.iterrows():\n",
    "    new_rows.append([row[\"Date\"], 2, row[\"BX_Case_Count\"]]) \n",
    "    new_rows.append([row[\"Date\"], 3, row[\"BK_Case_Count\"]]) \n",
    "    new_rows.append([row[\"Date\"], 0, row[\"MN_Case_Count\"]]) \n",
    "    new_rows.append([row[\"Date\"], 1, row[\"QN_Case_Count\"]]) \n",
    "    new_rows.append([row[\"Date\"], 4, row[\"SI_Case_Count\"]])\n",
    "covid_by_day = pd.DataFrame(new_rows, columns=[\"Date\", \"Borough\", \"COVID_Case_Count\"])\n",
    "covid_by_day"
   ]
  },
  {
   "cell_type": "code",
   "execution_count": null,
   "id": "463f4686-dae5-4155-8583-6f74b599dc1e",
   "metadata": {},
   "outputs": [],
   "source": [
    "import datetime as dt\n",
    "\n",
    "temp4 = temp3.copy()\n",
    "temp4[\"Date\"] = pd.to_datetime(temp4.DateTime, format=\"%Y-%m-%d\").dt.date\n",
    "temp4.DateTime = pd.to_datetime(temp4.DateTime)\n",
    "temp4.set_index(\"DateTime\", inplace=True)\n",
    "\n",
    "temp5 = pd.merge(temp4.reset_index(), covid_by_day, on=[\"Date\", \"Borough\"], how=\"left\").fillna(0.0).set_index(\"DateTime\")\n",
    "temp5"
   ]
  },
  {
   "cell_type": "code",
   "execution_count": null,
   "id": "5e378a95-4c6e-4424-b6bf-15591db66df0",
   "metadata": {},
   "outputs": [],
   "source": [
    "temp5.describe()"
   ]
  },
  {
   "cell_type": "code",
   "execution_count": null,
   "id": "821caded-a94b-4607-88f4-67c2b67f51cf",
   "metadata": {},
   "outputs": [],
   "source": [
    "temp5.info()"
   ]
  },
  {
   "cell_type": "code",
   "execution_count": null,
   "id": "9f1026cc-2df1-427b-90a4-43596a2e305e",
   "metadata": {},
   "outputs": [],
   "source": [
    "def create_lag_column(df, n):\n",
    "    new_lst = []\n",
    "    for group_name, group in df.groupby(\"Station ID\"):\n",
    "        # display(group_name)\n",
    "        group_lst = list(group.Traffic.shift(n))\n",
    "        new_lst += group_lst\n",
    "        # print(\"Complete\")\n",
    "    df[\"lag_station_\"+str(n)] = new_lst\n",
    "    return df\n",
    "\n",
    "def create_diff_column(df, n):\n",
    "    new_lst = []\n",
    "    for group_name, group in df.groupby(\"Station ID\"):\n",
    "        # display(group_name)\n",
    "        group_lst = list(group.Traffic.diff(n))\n",
    "        new_lst += group_lst\n",
    "        # print(\"Complete\")\n",
    "    df[\"diff_station_\"+str(n)] = new_lst\n",
    "    return df\n",
    "\n",
    "def create_rolling_mean_column(df, n):\n",
    "    new_lst = []\n",
    "    for group_name, group in df.groupby(\"Station ID\"):\n",
    "        # display(group_name)\n",
    "        group_lst = list(group.Traffic.rolling(n).mean().reset_index(level=0, drop=True))\n",
    "        new_lst += group_lst\n",
    "        # print(\"Complete\")\n",
    "    df[\"rolling_mean_station_\"+str(n)] = new_lst\n",
    "    return df\n",
    "\n",
    "def create_rolling_std_column(df, n):\n",
    "    new_lst = []\n",
    "    for group_name, group in df.groupby(\"Station ID\"):\n",
    "        # display(group_name)\n",
    "        group_lst = list(group.Traffic.rolling(n).std().reset_index(level=0, drop=True))\n",
    "        new_lst += group_lst\n",
    "        # print(\"Complete\")\n",
    "    df[\"rolling_std_station_\"+str(n)] = new_lst\n",
    "    return df"
   ]
  },
  {
   "cell_type": "code",
   "execution_count": null,
   "id": "17b910eb-5204-4940-94c6-32df24d2fc1f",
   "metadata": {},
   "outputs": [],
   "source": [
    "# temp6 = pd.merge(temp5.reset_index(), \n",
    "#                  temp5.groupby([\"Date\", \"Year\", \"Month\", \"Day\", \"DOW\", \"Hour\", \"Complex ID\"])[\"Traffic\"].sum().reset_index(), \n",
    "#                  on=[\"Date\", \"Year\", \"Month\", \"Day\", \"DOW\", \"Hour\", \"Complex ID\"], how=\"inner\").drop([\"Traffic_x\"], axis=1).rename(columns={\"Traffic_y\": \"Traffic\"})\n",
    "# temp6.DateTime = pd.to_datetime(temp6.DateTime)\n",
    "# temp6.set_index(\"DateTime\", inplace=True)\n",
    "\n",
    "# temp6#.groupby(\"Date\").sum()[\"Traffic\"].plot(figsize=(24,12))"
   ]
  },
  {
   "cell_type": "code",
   "execution_count": null,
   "id": "9909ad29-10c4-443c-b55f-34a0a124abaf",
   "metadata": {},
   "outputs": [],
   "source": [
    "#creating the train and validation set\n",
    "# data = temp5[(temp5.index > pd.to_datetime(\"2021-09-16 00:00:00\")) & (temp5[\"Borough\"] != 4)].copy()\n",
    "data = temp5[temp5[\"Borough\"] != 4].copy()\n",
    "train = data[data.index < pd.to_datetime('2021-04-01 00:00:00')]\n",
    "valid = data[data.index >= pd.to_datetime('2021-04-01 00:00:00')]\n",
    "data"
   ]
  },
  {
   "cell_type": "code",
   "execution_count": null,
   "id": "927aaa76-ae30-48ae-a350-bb2aaf622218",
   "metadata": {},
   "outputs": [],
   "source": [
    "print(data.index.min())\n",
    "print(data.index.max())"
   ]
  },
  {
   "cell_type": "code",
   "execution_count": null,
   "id": "a815eb49-f045-4787-9596-9ef63bb28efc",
   "metadata": {},
   "outputs": [],
   "source": [
    "data[\"Next_Interval_Value\"] = data.groupby(\"Station ID\")[\"Traffic\"].shift(-1)\n",
    "train[\"Next_Interval_Value\"] = train.groupby(\"Station ID\")[\"Traffic\"].shift(-1)\n",
    "valid[\"Next_Interval_Value\"] = valid.groupby(\"Station ID\")[\"Traffic\"].shift(-1)"
   ]
  },
  {
   "cell_type": "code",
   "execution_count": null,
   "id": "2c425a71-4cc7-439c-9495-1d470bb2d343",
   "metadata": {},
   "outputs": [],
   "source": [
    "data.dropna(inplace=True)\n",
    "train.dropna(inplace=True)\n",
    "valid.dropna(inplace=True)\n",
    "# train"
   ]
  },
  {
   "cell_type": "code",
   "execution_count": null,
   "id": "91295a82-4f7f-496c-958a-bb985e292d80",
   "metadata": {},
   "outputs": [],
   "source": [
    "# Add Lag 2\n",
    "data[\"lag_station_2\"] = data.groupby(\"Station ID\")[\"Traffic\"].shift(2)\n",
    "train[\"lag_station_2\"] = train.groupby(\"Station ID\")[\"Traffic\"].shift(2)\n",
    "valid[\"lag_station_2\"] = valid.groupby(\"Station ID\")[\"Traffic\"].shift(2)\n",
    "# data.head()"
   ]
  },
  {
   "cell_type": "code",
   "execution_count": null,
   "id": "e72a3a2f-fda5-44d8-a566-5e27fc186e9c",
   "metadata": {},
   "outputs": [],
   "source": [
    "# # Add Lag n\n",
    "# lags = 2\n",
    "\n",
    "# for n in range(1,lags+1):\n",
    "#     data = create_lag_column(data, n)\n",
    "#     train = create_lag_column(train, n)\n",
    "#     valid = create_lag_column(valid, n)"
   ]
  },
  {
   "cell_type": "code",
   "execution_count": null,
   "id": "c5ab0bc2-17fb-4518-a57d-256a6fc4ca6e",
   "metadata": {
    "tags": []
   },
   "outputs": [],
   "source": [
    "# diffs = 1\n",
    "\n",
    "# for n in range(1, diffs+1):\n",
    "#     data = create_diff_column(data, n)\n",
    "#     train = create_diff_column(train, n)\n",
    "#     valid = create_diff_column(valid, n)\n",
    "# data.head()"
   ]
  },
  {
   "cell_type": "code",
   "execution_count": null,
   "id": "4638c89f-3396-465c-87be-f051484a17fd",
   "metadata": {},
   "outputs": [],
   "source": [
    "data = create_diff_column(data, 2)\n",
    "train = create_diff_column(train, 2)\n",
    "valid = create_diff_column(valid, 2)\n",
    "# # data.head()"
   ]
  },
  {
   "cell_type": "code",
   "execution_count": null,
   "id": "896acd39-f3a5-4606-86a7-b6418d543fd5",
   "metadata": {},
   "outputs": [],
   "source": [
    "data = create_rolling_mean_column(data, 6)\n",
    "train = create_rolling_mean_column(train, 6)\n",
    "valid = create_rolling_mean_column(valid, 6)\n",
    "# data.head()"
   ]
  },
  {
   "cell_type": "code",
   "execution_count": null,
   "id": "fa819144-aaa6-4f6f-a354-0befeda1e85f",
   "metadata": {},
   "outputs": [],
   "source": [
    "data = create_rolling_mean_column(data, 42)\n",
    "train = create_rolling_mean_column(train, 42)\n",
    "valid = create_rolling_mean_column(valid, 42)\n",
    "# data.head()"
   ]
  },
  {
   "cell_type": "code",
   "execution_count": null,
   "id": "4fbcea51-1356-4fa9-88e9-6f2a305cdd55",
   "metadata": {},
   "outputs": [],
   "source": [
    "# data = create_rolling_mean_column(data, 180)\n",
    "# train = create_rolling_mean_column(train, 180)\n",
    "# valid = create_rolling_mean_column(valid, 180)\n",
    "# # data.head()"
   ]
  },
  {
   "cell_type": "code",
   "execution_count": null,
   "id": "d5699e2b-9f6d-445a-adc7-1ffa7268d218",
   "metadata": {},
   "outputs": [],
   "source": [
    "data = create_rolling_std_column(data, 6)\n",
    "train = create_rolling_std_column(train, 6)\n",
    "valid = create_rolling_std_column(valid, 6)\n",
    "# display(data)"
   ]
  },
  {
   "cell_type": "code",
   "execution_count": null,
   "id": "47fdf8df-9858-4fb2-a3b8-714458c663db",
   "metadata": {},
   "outputs": [],
   "source": [
    "data = create_rolling_std_column(data, 42)\n",
    "train = create_rolling_std_column(train, 42)\n",
    "valid = create_rolling_std_column(valid, 42)\n",
    "# display(data)"
   ]
  },
  {
   "cell_type": "code",
   "execution_count": null,
   "id": "b360438d-bfef-45d1-aeeb-362b6a2c0c71",
   "metadata": {},
   "outputs": [],
   "source": [
    "# data = create_rolling_std_column(data, 180)\n",
    "# train = create_rolling_std_column(train, 180)\n",
    "# valid = create_rolling_std_column(valid, 180)\n",
    "# # display(data)"
   ]
  },
  {
   "cell_type": "code",
   "execution_count": null,
   "id": "99d0b4cc-3bc0-4853-840b-68863a749dc7",
   "metadata": {},
   "outputs": [],
   "source": [
    "data.dropna(axis=0, inplace=True)\n",
    "train.dropna(axis=0, inplace=True)\n",
    "valid.dropna(axis=0, inplace=True)"
   ]
  },
  {
   "cell_type": "code",
   "execution_count": null,
   "id": "b8da90d1-dbaf-495b-b291-b68d9edcd4af",
   "metadata": {},
   "outputs": [],
   "source": [
    "data.isnull().sum()"
   ]
  },
  {
   "cell_type": "code",
   "execution_count": null,
   "id": "1553ce21-6bc4-48ed-87c2-adf2161f846c",
   "metadata": {},
   "outputs": [],
   "source": [
    "data.info()"
   ]
  },
  {
   "cell_type": "code",
   "execution_count": null,
   "id": "fbda7fe4-8bb0-4602-9425-1113626e39fc",
   "metadata": {},
   "outputs": [],
   "source": [
    "print(\"Training Set Start Date:\", train.index.min().date())\n",
    "print(\"Training Set End Date:\", train.index.max().date())\n",
    "print()\n",
    "print(\"Validation Set Start Date:\", valid.index.min().date())\n",
    "print(\"Validation Set End Date:\", valid.index.max().date())"
   ]
  },
  {
   "cell_type": "code",
   "execution_count": null,
   "id": "ec67ce65-8ccc-4568-9b1f-82cecdd9aeb6",
   "metadata": {},
   "outputs": [],
   "source": [
    "train.shape"
   ]
  },
  {
   "cell_type": "code",
   "execution_count": null,
   "id": "7a827b66-a796-41d6-b783-2c4859a2a88f",
   "metadata": {},
   "outputs": [],
   "source": [
    "valid.shape"
   ]
  },
  {
   "cell_type": "markdown",
   "id": "65d59c49-82a8-440b-a673-52f12c03474a",
   "metadata": {},
   "source": [
    "## Establish Baseline"
   ]
  },
  {
   "cell_type": "code",
   "execution_count": null,
   "id": "b39cf01b-75dc-4882-a45b-c7455c9e7f04",
   "metadata": {},
   "outputs": [],
   "source": [
    "## Develop Evaluation metrics\n",
    "\n",
    "# Mean Absolute Percentage Error\n",
    "def mape(y_true, y_pred):\n",
    "    ape = np.abs((y_true - y_pred) / y_true)\n",
    "    ape[~np.isfinite(ape)] = 1. # pessimist estimate\n",
    "    return np.mean(ape)\n",
    "# Weighted Mean Absolute Percentage Error\n",
    "def wmape(y_true, y_pred):\n",
    "    return np.sum(np.abs(y_true - y_pred)) / np.sum(np.abs(y_true))"
   ]
  },
  {
   "cell_type": "code",
   "execution_count": null,
   "id": "5b7be06b-3524-4915-ac0c-acb829420c7f",
   "metadata": {},
   "outputs": [],
   "source": [
    "y_pred = train[\"Traffic\"]\n",
    "y_true = train[\"Next_Interval_Value\"]"
   ]
  },
  {
   "cell_type": "code",
   "execution_count": null,
   "id": "9ce7aa26-774c-42e5-9f63-e6b32a982127",
   "metadata": {},
   "outputs": [],
   "source": [
    "wmape(y_true, y_pred)"
   ]
  },
  {
   "cell_type": "code",
   "execution_count": null,
   "id": "9d6aa6a1-28b6-4763-9e9a-248e170561bf",
   "metadata": {},
   "outputs": [],
   "source": [
    "print('Mean Absolute Error:', metrics.mean_absolute_error(y_true, y_pred))  \n",
    "print('Mean Squared Error:', metrics.mean_squared_error(y_true, y_pred))  \n",
    "print('Root Mean Squared Error:', np.sqrt(metrics.mean_squared_error(y_true, y_pred)))"
   ]
  },
  {
   "cell_type": "markdown",
   "id": "437e1cc8-0ab5-46ce-9298-6b3114c3f058",
   "metadata": {},
   "source": [
    "## Train Model"
   ]
  },
  {
   "cell_type": "code",
   "execution_count": null,
   "id": "c63a83ea-0171-49c3-8b2d-71a9fcf71c8f",
   "metadata": {},
   "outputs": [],
   "source": [
    "features_lst = ['Year', 'Month', 'Day', 'Hour', 'DOW', 'Traffic', 'Station ID',\n",
    "       'Complex ID', 'Borough', 'Structure_At Grade', 'Structure_Elevated',\n",
    "       'Structure_Open Cut', 'Structure_Subway', 'Structure_Viaduct',\n",
    "       'COVID_Case_Count', 'lag_station_2',\n",
    "       'lag_station_1', 'diff_station_1', 'rolling_mean_station_6',\n",
    "       'rolling_mean_station_42', 'rolling_std_station_6',\n",
    "       'rolling_std_station_42']"
   ]
  },
  {
   "cell_type": "code",
   "execution_count": null,
   "id": "3b62e184-1e0f-4dac-b9da-ee93f599d1e2",
   "metadata": {},
   "outputs": [],
   "source": [
    "imputer = SimpleImputer()\n",
    "X_train = imputer.fit_transform(train[features_lst])\n",
    "y_train = train['Next_Interval_Value']\n",
    "\n",
    "\n",
    "model = RandomForestRegressor(n_estimators=150, random_state=0, n_jobs=6, verbose=True)\n",
    "model.fit(X_train, y_train)"
   ]
  },
  {
   "cell_type": "markdown",
   "id": "48aabcf7-d623-4abf-a4fa-dd8e9e1324ac",
   "metadata": {},
   "source": [
    "## Evaluate Model"
   ]
  },
  {
   "cell_type": "code",
   "execution_count": null,
   "id": "cfb35a25-7be9-4ec9-8441-a10e73b1595b",
   "metadata": {},
   "outputs": [],
   "source": [
    "X_test = imputer.transform(valid[features_lst])\n",
    "y_test = valid['Next_Interval_Value']\n",
    "\n",
    "pred = model.predict(X_test)"
   ]
  },
  {
   "cell_type": "code",
   "execution_count": null,
   "id": "1cfcf0fa-0cd4-46b8-8103-30aa56e46442",
   "metadata": {},
   "outputs": [],
   "source": [
    "print(wmape(y_test, pred))"
   ]
  },
  {
   "cell_type": "code",
   "execution_count": null,
   "id": "1d6cf77a-fb21-4e03-841d-3219400c12e4",
   "metadata": {},
   "outputs": [],
   "source": [
    "# Evaluating the Model\n",
    "print(\"Accuracy:\", (1.0 - wmape(y_test, pred)))\n",
    "print(\"Weighted Mean Absolute Percentage Error:\", wmape(y_test, pred))\n",
    "print('Mean Absolute Error (MAE):', metrics.mean_absolute_error(y_test, pred))  \n",
    "# print('Mean Squared Error:', np.sqrt(metrics.mean_squared_error(y_test, pred)))\n",
    "print('Root Mean Squared Error (RMSE):', np.sqrt(metrics.mean_squared_error(y_test, pred)))"
   ]
  },
  {
   "cell_type": "markdown",
   "id": "8dbf2b6e-77a0-42e3-925e-f6a30795d6dc",
   "metadata": {
    "tags": []
   },
   "source": [
    "## Feature Filtering"
   ]
  },
  {
   "cell_type": "code",
   "execution_count": null,
   "id": "5ecc1ed4-46a2-4887-b053-f083a8b43d59",
   "metadata": {},
   "outputs": [],
   "source": [
    "# Get numerical feature importances\n",
    "importances = list(model.feature_importances_)\n",
    "# List of tuples with variable and importance\n",
    "feature_importances = [(feature, round(importance, 2)) for feature, importance in zip(features_lst, importances)]\n",
    "# Sort the feature importances by most important first\n",
    "feature_importances = sorted(feature_importances, key = lambda x: x[1], reverse = True)\n",
    "# Print out the feature and importances \n",
    "[print('Variable: {:20} Importance: {}'.format(*pair)) for pair in feature_importances];"
   ]
  },
  {
   "cell_type": "code",
   "execution_count": null,
   "id": "ee65129e-5cc8-4158-90a6-2ad39aca8a05",
   "metadata": {},
   "outputs": [],
   "source": [
    "# Set the style\n",
    "# plt.style.use('fivethirtyeight')\n",
    "plt.style.use('ggplot')\n",
    "\n",
    "# list of x locations for plotting\n",
    "x_values = list(range(len(importances)))\n",
    "# Make a bar chart\n",
    "plt.figure(figsize=(12,8))\n",
    "plt.bar(x_values, importances, orientation = 'vertical')\n",
    "# Tick labels for x axis\n",
    "plt.xticks(x_values, features_lst, rotation=45)\n",
    "# Axis labels and title\n",
    "plt.ylabel('Importance') \n",
    "plt.xlabel('Features')\n",
    "plt.title('Feature Importances', fontsize=25)\n",
    "plt.tight_layout()\n",
    "plt.savefig(\"./img/feature_importance1.png\", dpi=100)"
   ]
  },
  {
   "cell_type": "code",
   "execution_count": null,
   "id": "3d7500ec-6d7e-4d1a-bb94-5fa3f4ccaeba",
   "metadata": {},
   "outputs": [],
   "source": []
  },
  {
   "cell_type": "markdown",
   "id": "f3fd9ef3-ec6a-494f-992f-ab29b289e4a7",
   "metadata": {},
   "source": [
    "# Repeat"
   ]
  },
  {
   "cell_type": "code",
   "execution_count": null,
   "id": "d974fe49-b2a9-48ee-995c-d8f9c053d675",
   "metadata": {},
   "outputs": [],
   "source": [
    "features_lst = ['Month', 'Day', 'Hour', 'DOW', 'Traffic', 'Station ID', \n",
    "                'Complex ID', 'Borough', 'lag_station_2',\n",
    "                'diff_station_1', 'rolling_mean_station_42', 'rolling_std_station_42']"
   ]
  },
  {
   "cell_type": "code",
   "execution_count": null,
   "id": "fda4ce05-4d6d-4414-8f2c-cf523290dd91",
   "metadata": {},
   "outputs": [],
   "source": [
    "imputer = SimpleImputer()\n",
    "X_train = imputer.fit_transform(train[features_lst])\n",
    "y_train = train['Next_Interval_Value']\n",
    "\n",
    "\n",
    "model = RandomForestRegressor(n_estimators=100, random_state=0, n_jobs=6, verbose=True)\n",
    "model.fit(X_train, y_train)"
   ]
  },
  {
   "cell_type": "code",
   "execution_count": null,
   "id": "da3faf2d-11c2-4090-96ef-4e861bcd69f6",
   "metadata": {},
   "outputs": [],
   "source": [
    "X_test = imputer.transform(valid[features_lst])\n",
    "y_test = valid['Next_Interval_Value']\n",
    "\n",
    "pred = model.predict(X_test)"
   ]
  },
  {
   "cell_type": "code",
   "execution_count": null,
   "id": "2ca90ae1-8abe-4d00-9094-8b9bbe71bda4",
   "metadata": {},
   "outputs": [],
   "source": [
    "print(mape(y_test, pred))"
   ]
  },
  {
   "cell_type": "code",
   "execution_count": null,
   "id": "c32fb371-a6c4-4cc9-83f9-5e8fc118f4fe",
   "metadata": {},
   "outputs": [],
   "source": [
    "# Evaluating the Model\n",
    "print(\"Accuracy:\", (1.0 - wmape(y_test, pred)))\n",
    "print(\"Weighted Mean Absolute Percentage Error:\", wmape(y_test, pred))\n",
    "print('Mean Absolute Error (MAE):', metrics.mean_absolute_error(y_test, pred))  \n",
    "# print('Mean Squared Error:', np.sqrt(metrics.mean_squared_error(y_test, pred)))\n",
    "print('Root Mean Squared Error (RMSE):', np.sqrt(metrics.mean_squared_error(y_test, pred)))"
   ]
  },
  {
   "cell_type": "code",
   "execution_count": null,
   "id": "5b2de497-c50c-4fd0-a7d7-908954765c8f",
   "metadata": {},
   "outputs": [],
   "source": [
    "# Get numerical feature importances\n",
    "importances = list(model.feature_importances_)\n",
    "# List of tuples with variable and importance\n",
    "feature_importances = [(feature, round(importance, 2)) for feature, importance in zip(features_lst, importances)]\n",
    "# Sort the feature importances by most important first\n",
    "feature_importances = sorted(feature_importances, key = lambda x: x[1], reverse = True)\n",
    "# Print out the feature and importances \n",
    "[print('Variable: {:20} Importance: {}'.format(*pair)) for pair in feature_importances];"
   ]
  },
  {
   "cell_type": "code",
   "execution_count": null,
   "id": "a38d0973-4d52-478e-9698-27cd55f01dea",
   "metadata": {},
   "outputs": [],
   "source": [
    "# Set the style\n",
    "# plt.style.use('fivethirtyeight')\n",
    "plt.style.use('ggplot')\n",
    "\n",
    "# list of x locations for plotting\n",
    "x_values = list(range(len(importances)))\n",
    "# Make a bar chart\n",
    "plt.figure(figsize=(12,8))\n",
    "plt.bar(x_values, importances, orientation = 'vertical')\n",
    "# Tick labels for x axis\n",
    "plt.xticks(x_values, features_lst, rotation=45)\n",
    "# Axis labels and title\n",
    "plt.ylabel('Importance') \n",
    "plt.xlabel('Features')\n",
    "plt.title('Feature Importances', fontsize=25)\n",
    "plt.tight_layout()\n",
    "plt.savefig(\"./img/feature_importance2.png\", dpi=100)"
   ]
  },
  {
   "cell_type": "code",
   "execution_count": null,
   "id": "a4482f43-96a9-4311-abf4-0113becc7cdc",
   "metadata": {},
   "outputs": [],
   "source": []
  },
  {
   "cell_type": "code",
   "execution_count": null,
   "id": "5c68c85f-b28e-4eea-b2d9-50055f15b53e",
   "metadata": {},
   "outputs": [],
   "source": []
  },
  {
   "cell_type": "markdown",
   "id": "34dd65bf-d302-48c3-a598-72d90c6fe61c",
   "metadata": {},
   "source": [
    "## Randomized Grid Search"
   ]
  },
  {
   "cell_type": "code",
   "execution_count": null,
   "id": "8f249089-e91b-4f8f-9c6d-d1f07f08b8b1",
   "metadata": {},
   "outputs": [],
   "source": [
    "train_features = train.dropna(axis=0)[features_lst]\n",
    "train_labels = train.dropna(axis=0)[\"Next_Interval_Value\"]"
   ]
  },
  {
   "cell_type": "code",
   "execution_count": null,
   "id": "b6ed3405-1c4e-43af-93d2-b53f3e27d293",
   "metadata": {},
   "outputs": [],
   "source": [
    "(train_features.shape, train_labels.shape)"
   ]
  },
  {
   "cell_type": "code",
   "execution_count": null,
   "id": "a29d30fa-0f58-4daa-a401-8ef462659c73",
   "metadata": {},
   "outputs": [],
   "source": [
    "from sklearn.ensemble import RandomForestRegressor\n",
    "rf = RandomForestRegressor(random_state = 42)\n",
    "from pprint import pprint\n",
    "# Look at parameters used by our current forest\n",
    "print('Parameters currently in use:\\n')\n",
    "pprint(rf.get_params())"
   ]
  },
  {
   "cell_type": "code",
   "execution_count": null,
   "id": "a045d5c0-1201-4af1-8e93-48e64790d0a8",
   "metadata": {},
   "outputs": [],
   "source": [
    "from sklearn.model_selection import RandomizedSearchCV\n",
    "\n",
    "# Number of trees in random forest\n",
    "n_estimators = [int(x) for x in np.linspace(start = 100, stop = 300, num = 4)]\n",
    "# Number of features to consider at every split\n",
    "max_features = ['auto', 'sqrt']\n",
    "# Maximum number of levels in tree\n",
    "max_depth = [int(x) for x in np.linspace(10, 40, num = 2)]\n",
    "max_depth.append(None)\n",
    "# Minimum number of samples required to split a node\n",
    "min_samples_split = [2, 5, 10]\n",
    "# Minimum number of samples required at each leaf node\n",
    "min_samples_leaf = [1, 2, 4]\n",
    "# Method of selecting samples for training each tree\n",
    "bootstrap = [True, False]\n",
    "# Create the random grid\n",
    "random_grid = {'n_estimators': n_estimators,\n",
    "               'max_features': max_features,\n",
    "               'max_depth': max_depth,\n",
    "               'min_samples_split': min_samples_split,\n",
    "               'min_samples_leaf': min_samples_leaf,\n",
    "               'bootstrap': bootstrap}\n",
    "pprint(random_grid)"
   ]
  },
  {
   "cell_type": "code",
   "execution_count": null,
   "id": "182e9503-e594-4d34-a97e-9b9dfd04145a",
   "metadata": {},
   "outputs": [],
   "source": [
    "# Use the random grid to search for best hyperparameters\n",
    "# First create the base model to tune\n",
    "rf = RandomForestRegressor()\n",
    "# Random search of parameters, using 0 fold cross validation, \n",
    "# search across 100 different combinations, and use all available cores\n",
    "rf_random = RandomizedSearchCV(estimator = rf, param_distributions = random_grid, cv=None, n_iter = 10, verbose=2, random_state=0, n_jobs = 6)\n",
    "# Fit the random search model\n",
    "rf_random.fit(train_features, train_labels)"
   ]
  },
  {
   "cell_type": "code",
   "execution_count": null,
   "id": "63c5a3cc-49e0-40b7-b5c4-fb028541dd78",
   "metadata": {},
   "outputs": [],
   "source": [
    "rf_random.best_params_"
   ]
  },
  {
   "cell_type": "code",
   "execution_count": null,
   "id": "5d674533-1b3b-47db-adbe-8dc9db02aca8",
   "metadata": {},
   "outputs": [],
   "source": [
    "rf_random.best_estimator_"
   ]
  },
  {
   "cell_type": "markdown",
   "id": "e8b4f8d6-d606-4e22-8306-35186cd5fa00",
   "metadata": {},
   "source": [
    "#### {'n_estimators': 200, 'max_depth': 10, 'bootstrap': True}"
   ]
  },
  {
   "cell_type": "code",
   "execution_count": null,
   "id": "23fe5b59-78e6-4482-85aa-12a413d09c60",
   "metadata": {},
   "outputs": [],
   "source": [
    "# Best RF Params \n",
    "# {'n_estimators': 300,\n",
    "#  'min_samples_split': 10,\n",
    "#  'min_samples_leaf': 4,\n",
    "#  'max_features': 'auto',\n",
    "#  'max_depth': 40,\n",
    "#  'bootstrap': True}"
   ]
  },
  {
   "cell_type": "code",
   "execution_count": null,
   "id": "85dd60ce-0c91-4541-bd09-ddcce97264b8",
   "metadata": {},
   "outputs": [],
   "source": []
  },
  {
   "cell_type": "code",
   "execution_count": null,
   "id": "a7b65f40-2c8a-47ff-938d-57224b7e7a35",
   "metadata": {},
   "outputs": [],
   "source": []
  },
  {
   "cell_type": "code",
   "execution_count": null,
   "id": "ec44bb8f-4096-4735-b829-fcfe22cb02cf",
   "metadata": {},
   "outputs": [],
   "source": []
  },
  {
   "cell_type": "code",
   "execution_count": null,
   "id": "3d23a880-9371-4ed2-9751-b3f74bb9d4e4",
   "metadata": {},
   "outputs": [],
   "source": [
    "from sklearn.model_selection import GridSearchCV\n",
    "# Create the parameter grid based on the results of random search \n",
    "param_grid = {\n",
    "    'bootstrap': [True],\n",
    "    'max_depth': [80, 90, 100, 110],\n",
    "    'min_samples_leaf': [3, 4, 5],\n",
    "    'min_samples_split': [8, 10, 12],\n",
    "    'n_estimators': [300, 600, 1000],\n",
    "    'max_features': ['auto'],\n",
    "    'max_depth': [30, 40, 50, 60]\n",
    "}\n",
    "# Create a based model\n",
    "rf = RandomForestRegressor()\n",
    "# Instantiate the grid search model\n",
    "grid_search = GridSearchCV(estimator = rf, param_grid = param_grid, \n",
    "                          cv = None, n_jobs = 6, verbose = 2)"
   ]
  },
  {
   "cell_type": "code",
   "execution_count": null,
   "id": "71879a2f-3e93-4c43-a3d4-04b59416f8c9",
   "metadata": {},
   "outputs": [],
   "source": [
    "# Fit the grid search to the data\n",
    "grid_search.fit(train_features, train_labels)\n",
    "grid_search.best_params_"
   ]
  },
  {
   "cell_type": "code",
   "execution_count": null,
   "id": "069735f2-4292-4fad-af37-bb2a4bc0c3de",
   "metadata": {},
   "outputs": [],
   "source": [
    "best_grid = grid_search.best_estimator_"
   ]
  },
  {
   "cell_type": "code",
   "execution_count": null,
   "id": "3ba93bbb-a547-41e0-a7f6-48aefb898a2b",
   "metadata": {},
   "outputs": [],
   "source": [
    "# {'n_estimators': 300,\n",
    "#  'min_samples_split': 10,\n",
    "#  'min_samples_leaf': 4,\n",
    "#  'max_features': 'auto',\n",
    "#  'max_depth': 40,\n",
    "#  'bootstrap': True}"
   ]
  },
  {
   "cell_type": "markdown",
   "id": "bda02503-29dd-422d-8165-954a4336a99b",
   "metadata": {},
   "source": [
    "## Train with optimized parameters"
   ]
  },
  {
   "cell_type": "code",
   "execution_count": null,
   "id": "bfc814aa-ae04-451a-b312-255ad0ab860c",
   "metadata": {},
   "outputs": [],
   "source": [
    "features_lst = ['Month', 'Day', 'Hour', 'DOW', 'Traffic', 'Station ID', \n",
    "                'Complex ID', 'Borough', 'lag_station_2', 'diff_station_2', \n",
    "                'rolling_mean_station_42', 'rolling_std_station_42']"
   ]
  },
  {
   "cell_type": "code",
   "execution_count": null,
   "id": "2536335c-6c3e-4c62-ae5d-4eda1632eff4",
   "metadata": {},
   "outputs": [],
   "source": [
    "imputer = SimpleImputer()\n",
    "X_train = imputer.fit_transform(train[features_lst])\n",
    "y_train = train['Next_Interval_Value']\n",
    "\n",
    "\n",
    "model = RandomForestRegressor(n_estimators=300, \n",
    "                              min_samples_split=10, \n",
    "                              min_samples_leaf=4, \n",
    "                              max_features=\"auto\", \n",
    "                              max_depth=40, \n",
    "                              bootstrap=True, \n",
    "                              random_state=0, \n",
    "                              n_jobs=6, \n",
    "                              verbose=True)\n",
    "model.fit(X_train, y_train)"
   ]
  },
  {
   "cell_type": "code",
   "execution_count": null,
   "id": "a4f6960f-565b-4654-ad5f-c7e46b490930",
   "metadata": {},
   "outputs": [],
   "source": [
    "X_test = imputer.transform(valid[features_lst])\n",
    "y_test = valid['Next_Interval_Value']\n",
    "\n",
    "pred = model.predict(X_test)"
   ]
  },
  {
   "cell_type": "code",
   "execution_count": null,
   "id": "f389c6ab-4f3e-46bb-b50c-85ef9dd4ec0c",
   "metadata": {},
   "outputs": [],
   "source": [
    "# Evaluating the Model\n",
    "print(\"Accuracy:\", (1.0 - wmape(y_test, pred)))\n",
    "print(\"Weighted Mean Absolute Percentage Error:\", wmape(y_test, pred))\n",
    "print('Mean Absolute Error (MAE):', metrics.mean_absolute_error(y_test, pred))  \n",
    "# print('Mean Squared Error:', np.sqrt(metrics.mean_squared_error(y_test, pred)))\n",
    "print('Root Mean Squared Error (RMSE):', np.sqrt(metrics.mean_squared_error(y_test, pred)))"
   ]
  },
  {
   "cell_type": "markdown",
   "id": "e0432a16-027d-4f7f-ba34-3ee868c07bc6",
   "metadata": {},
   "source": [
    "## XGBoost"
   ]
  },
  {
   "cell_type": "code",
   "execution_count": null,
   "id": "4f218b02-96df-4988-a5dc-7aa1334250b3",
   "metadata": {},
   "outputs": [],
   "source": [
    "features_lst = ['Year', 'Month', 'Day', 'Hour', 'DOW', 'Traffic', \n",
    "                'Station ID', 'Complex ID', 'Borough', 'COVID_Case_Count', \n",
    "                'lag_station_2', 'diff_station_1', 'rolling_mean_station_6', 'rolling_std_station_6', 'rolling_std_station_42', 'rolling_mean_station_42']\n",
    "\n",
    "imputer = SimpleImputer()\n",
    "X_train = imputer.fit_transform(train[features_lst])\n",
    "y_train = train['Next_Interval_Value']"
   ]
  },
  {
   "cell_type": "code",
   "execution_count": null,
   "id": "f2e50e1d-bf69-4540-bb78-148f5b90f929",
   "metadata": {},
   "outputs": [],
   "source": [
    "import xgboost as xgb\n",
    "# from sklearn.multioutput import MultiOutputRegressor \n",
    "\n",
    "model = xgb.XGBRegressor(n_estimators=400)\n",
    "\n",
    "trained_model = model.fit(X_train, y_train, verbose=True)"
   ]
  },
  {
   "cell_type": "code",
   "execution_count": null,
   "id": "5387a04e-4655-4b23-9eea-25cd5d86cad3",
   "metadata": {},
   "outputs": [],
   "source": [
    "X_test = imputer.transform(valid[features_lst])\n",
    "y_test = valid['Next_Interval_Value']\n",
    "\n",
    "test_forecasts = trained_model.predict(X_test)"
   ]
  },
  {
   "cell_type": "code",
   "execution_count": null,
   "id": "d62507c3-cfd6-4fec-a5d3-9a6424bffda7",
   "metadata": {},
   "outputs": [],
   "source": [
    "# Evaluating the Model\n",
    "print(\"Accuracy:\", (1.0 - wmape(y_test, test_forecasts)))\n",
    "print(\"Weighted Mean Absolute Percentage Error:\", wmape(y_test, test_forecasts))\n",
    "print('Mean Absolute Error (MAE):', metrics.mean_absolute_error(y_test, test_forecasts))  \n",
    "# print('Mean Squared Error:', np.sqrt(metrics.mean_squared_error(y_test, pred)))\n",
    "print('Root Mean Squared Error (RMSE):', np.sqrt(metrics.mean_squared_error(y_test, test_forecasts)))"
   ]
  },
  {
   "cell_type": "code",
   "execution_count": null,
   "id": "3e1f53f5-bd68-4360-94e2-c7deef5d53c5",
   "metadata": {},
   "outputs": [],
   "source": []
  },
  {
   "cell_type": "markdown",
   "id": "7345516d-59b1-4e61-8315-ef70ee8792a0",
   "metadata": {},
   "source": [
    "## Random Forest after Feature Selection"
   ]
  },
  {
   "cell_type": "code",
   "execution_count": null,
   "id": "0e71372e-08f1-40bc-83cc-1f14f9adb565",
   "metadata": {},
   "outputs": [],
   "source": [
    "features_lst = ['Year', 'Month', 'Day', 'Hour', 'DOW', 'Traffic', \n",
    "                'Station ID', 'Complex ID', 'Borough', 'COVID_Case_Count', \n",
    "                'lag_station_2', 'diff_station_1', 'rolling_mean_station_6', 'rolling_std_station_6', 'rolling_std_station_42', 'rolling_mean_station_42']"
   ]
  },
  {
   "cell_type": "code",
   "execution_count": null,
   "id": "fb436a48-1188-401b-a954-1ca4b229c784",
   "metadata": {},
   "outputs": [],
   "source": [
    "imputer = SimpleImputer()\n",
    "X_train = imputer.fit_transform(train[features_lst])\n",
    "y_train = train['Next_Interval_Value']\n",
    "\n",
    "\n",
    "model = RandomForestRegressor(n_estimators=450, random_state=0, n_jobs=6, verbose=True)\n",
    "model.fit(X_train, y_train)"
   ]
  },
  {
   "cell_type": "code",
   "execution_count": null,
   "id": "a0b90a08-bf8c-4b29-9b85-c7701eba457f",
   "metadata": {},
   "outputs": [],
   "source": [
    "X_test = imputer.transform(valid[features_lst])\n",
    "y_test = valid['Next_Interval_Value']\n",
    "\n",
    "pred = model.predict(X_test)"
   ]
  },
  {
   "cell_type": "code",
   "execution_count": null,
   "id": "47ea22c9-0e6b-4eaf-9a48-c3632e887947",
   "metadata": {},
   "outputs": [],
   "source": [
    "# Evaluating the Model\n",
    "print(\"Accuracy:\", (1.0 - wmape(y_test, pred)))\n",
    "print(\"Weighted Mean Absolute Percentage Error:\", wmape(y_test, pred))\n",
    "print('Mean Absolute Error (MAE):', metrics.mean_absolute_error(y_test, pred))  \n",
    "# print('Mean Squared Error:', np.sqrt(metrics.mean_squared_error(y_test, pred)))\n",
    "print('Root Mean Squared Error (RMSE):', np.sqrt(metrics.mean_squared_error(y_test, pred)))"
   ]
  },
  {
   "cell_type": "code",
   "execution_count": null,
   "id": "7b128248-13cf-45b2-bbfc-5a7b5d6453a9",
   "metadata": {},
   "outputs": [],
   "source": [
    "# Get numerical feature importances\n",
    "importances2 = list(model.feature_importances_)\n",
    "# List of tuples with variable and importance\n",
    "feature_importances2 = [(feature, round(importance, 2)) for feature, importance in zip(features_lst, importances2)]\n",
    "# Sort the feature importances by most important first\n",
    "feature_importances2 = sorted(feature_importances2, key = lambda x: x[1], reverse = True)\n",
    "# Print out the feature and importances \n",
    "[print('Variable: {:20} Importance: {}'.format(*pair)) for pair in feature_importances2];"
   ]
  },
  {
   "cell_type": "code",
   "execution_count": null,
   "id": "dded8b45-de3b-4f39-87f9-107263204e22",
   "metadata": {},
   "outputs": [],
   "source": [
    "# Set the style\n",
    "plt.style.use('fivethirtyeight')\n",
    "# list of x locations for plotting\n",
    "x_values = list(range(len(importances2)))\n",
    "# Make a bar chart\n",
    "plt.figure(figsize=(12,8))\n",
    "plt.bar(x_values, importances2, orientation = 'vertical')\n",
    "# Tick labels for x axis\n",
    "plt.xticks(x_values, features_lst, rotation=45)\n",
    "# Axis labels and title\n",
    "plt.ylabel('Importance') \n",
    "plt.xlabel('Feature')\n",
    "plt.title('Feature Importances\\nPost Filtering')\n",
    "plt.savefig(\"./img/feature_importance2.png\", dpi=100)"
   ]
  },
  {
   "cell_type": "code",
   "execution_count": null,
   "id": "d9bdaf7d-ddb8-4a5e-81ce-63341c3a7839",
   "metadata": {},
   "outputs": [],
   "source": []
  },
  {
   "cell_type": "code",
   "execution_count": null,
   "id": "89ddca81-7b15-4fb2-813f-f4ca7b7fd716",
   "metadata": {},
   "outputs": [],
   "source": []
  },
  {
   "cell_type": "code",
   "execution_count": null,
   "id": "2c0c06ba-1ac2-406f-9a77-0cfd89900d82",
   "metadata": {},
   "outputs": [],
   "source": []
  },
  {
   "cell_type": "markdown",
   "id": "f5b50a05-6317-4e2e-9704-184453097c75",
   "metadata": {},
   "source": [
    "## Extend model to predict n-steps"
   ]
  },
  {
   "cell_type": "code",
   "execution_count": null,
   "id": "94eff96a-bb5a-42c4-aee1-07dcfe0ba0c7",
   "metadata": {},
   "outputs": [],
   "source": [
    "train['traffic_next_next_interval'] = train.groupby(\"Station ID\")['Traffic'].shift(-2)\n",
    "valid['traffic_next_next_interval'] = valid.groupby(\"Station ID\")['Traffic'].shift(-2)"
   ]
  },
  {
   "cell_type": "code",
   "execution_count": null,
   "id": "a7c12afc-435c-4622-b5a1-0d250019dca4",
   "metadata": {},
   "outputs": [],
   "source": [
    "train = train.dropna(subset=[\"Next_Interval_Value\", \"traffic_next_next_interval\"])\n",
    "valid = valid.dropna(subset=[\"Next_Interval_Value\", \"traffic_next_next_interval\"])"
   ]
  },
  {
   "cell_type": "code",
   "execution_count": null,
   "id": "5f4160c8-481a-4d86-a797-4ea3c360516f",
   "metadata": {},
   "outputs": [],
   "source": [
    "imputer = SimpleImputer()\n",
    "X_train = imputer.fit_transform(train[features])\n",
    "y_train = train[['Next_Interval_Value', 'traffic_next_next_interval']]\n",
    "\n",
    "model2 = RandomForestRegressor(n_estimators=100, random_state=0, n_jobs=6, verbose=True)\n",
    "model2.fit(X_train, y_train)"
   ]
  },
  {
   "cell_type": "code",
   "execution_count": null,
   "id": "9cc482f3-e791-4d75-91ae-ed04915a4b65",
   "metadata": {},
   "outputs": [],
   "source": [
    "X_test = imputer.transform(valid[features])\n",
    "y_test = valid[['Next_Interval_Value', 'traffic_next_next_interval']]\n",
    "\n",
    "pred = model2.predict(X_test)"
   ]
  },
  {
   "cell_type": "code",
   "execution_count": null,
   "id": "1c401353-08b1-41ac-bcc1-e1bb49923fe5",
   "metadata": {},
   "outputs": [],
   "source": [
    "# Evaluating the Model\n",
    "print('Mean Absolute Error:', metrics.mean_absolute_error(y_test, pred))  \n",
    "print('Mean Squared Error:', metrics.mean_squared_error(y_test, pred))  \n",
    "print('Root Mean Squared Error:', np.sqrt(metrics.mean_squared_error(y_test, pred)))"
   ]
  },
  {
   "cell_type": "markdown",
   "id": "4e72576c-ac16-4fdd-ba24-dd64bd33f70e",
   "metadata": {},
   "source": [
    "## Implementation of model in practice"
   ]
  },
  {
   "cell_type": "code",
   "execution_count": null,
   "id": "a6ee08ba-a485-4978-904b-da8732b1bb50",
   "metadata": {},
   "outputs": [],
   "source": [
    "valid.DateTime.max()"
   ]
  },
  {
   "cell_type": "code",
   "execution_count": null,
   "id": "183ba10e-d025-4bcc-a963-73446516dcb3",
   "metadata": {},
   "outputs": [],
   "source": [
    "new = valid[valid['DateTime'] == pd.to_datetime('2022-09-16 04:00:00')].copy()\n",
    "new.head()"
   ]
  },
  {
   "cell_type": "code",
   "execution_count": null,
   "id": "2009ede5-1613-4638-9c66-6b9853d25d05",
   "metadata": {},
   "outputs": [],
   "source": [
    "pred = model.predict(new[features])\n",
    "pred[:10]"
   ]
  },
  {
   "cell_type": "code",
   "execution_count": null,
   "id": "c314d6e0-ab1d-4cdb-ad07-f75cdcee00b2",
   "metadata": {},
   "outputs": [],
   "source": [
    "pred"
   ]
  },
  {
   "cell_type": "code",
   "execution_count": null,
   "id": "e9076c62-67d3-4e64-92a1-adaa1cf79dc0",
   "metadata": {},
   "outputs": [],
   "source": [
    "new['Traffic_Prediction_Next_Interval'] = pred[:, 0]\n",
    "new['Traffic_Prediction_Next_Next_Interval'] = pred[:, 1]\n",
    "new.head()"
   ]
  },
  {
   "cell_type": "code",
   "execution_count": null,
   "id": "35d2339e-53ae-444a-8914-c9287575d160",
   "metadata": {},
   "outputs": [],
   "source": [
    "for k, v in station_mapping.items():\n",
    "    new.loc[new.Station == float(v), \"Station_Name\"] = k"
   ]
  },
  {
   "cell_type": "code",
   "execution_count": null,
   "id": "0bb9b1ab-77d6-4c13-b53c-a713bf0c6245",
   "metadata": {},
   "outputs": [],
   "source": [
    "new[new.Station_Name == '1 AV'][[\"Station_Name\", \"DateTime\", \"Next_Interval_Value\", \"traffic_next_next_interval\", \"Traffic_Prediction_Next_Interval\", \"Traffic_Prediction_Next_Next_Interval\"]]"
   ]
  },
  {
   "cell_type": "code",
   "execution_count": null,
   "id": "02b25ecb-accd-4d7e-8e73-2183c3c91f5b",
   "metadata": {},
   "outputs": [],
   "source": []
  },
  {
   "cell_type": "code",
   "execution_count": null,
   "id": "9d088d62-174a-4ef0-8edf-93329363ecf5",
   "metadata": {},
   "outputs": [],
   "source": []
  },
  {
   "cell_type": "code",
   "execution_count": null,
   "id": "78eaff5a-d8ad-4bf6-b98a-7476feed07cf",
   "metadata": {},
   "outputs": [],
   "source": []
  }
 ],
 "metadata": {
  "kernelspec": {
   "display_name": "Python 3",
   "language": "python",
   "name": "python3"
  },
  "language_info": {
   "codemirror_mode": {
    "name": "ipython",
    "version": 3
   },
   "file_extension": ".py",
   "mimetype": "text/x-python",
   "name": "python",
   "nbconvert_exporter": "python",
   "pygments_lexer": "ipython3",
   "version": "3.7.7"
  }
 },
 "nbformat": 4,
 "nbformat_minor": 5
}
